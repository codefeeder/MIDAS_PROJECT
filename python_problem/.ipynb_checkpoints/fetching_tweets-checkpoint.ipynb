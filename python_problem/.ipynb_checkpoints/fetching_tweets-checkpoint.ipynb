{
 "cells": [
  {
   "cell_type": "markdown",
   "metadata": {},
   "source": [
    "# Imports"
   ]
  },
  {
   "cell_type": "code",
   "execution_count": 29,
   "metadata": {},
   "outputs": [],
   "source": [
    "import requests\n",
    "import bs4\n",
    "import jsonlines\n",
    "import pandas as pd\n",
    "from requests_oauthlib import OAuth1"
   ]
  },
  {
   "cell_type": "markdown",
   "metadata": {},
   "source": [
    "# Initializing Auth_Parameters"
   ]
  },
  {
   "cell_type": "code",
   "execution_count": 30,
   "metadata": {},
   "outputs": [],
   "source": [
    "auth_params = {\n",
    "    'app_key':'******',\n",
    "    'app_secret':'******',\n",
    "    'oauth_token':'******',\n",
    "    'oauth_token_secret':'******',\n",
    "}"
   ]
  },
  {
   "cell_type": "markdown",
   "metadata": {},
   "source": [
    "# Creating an OAuth Client connection"
   ]
  },
  {
   "cell_type": "code",
   "execution_count": 31,
   "metadata": {},
   "outputs": [],
   "source": [
    "auth = OAuth1 (\n",
    "    auth_params['app_key'],\n",
    "    auth_params['app_secret'],\n",
    "    auth_params['oauth_token'],\n",
    "    auth_params['oauth_token_secret']\n",
    ")"
   ]
  },
  {
   "cell_type": "markdown",
   "metadata": {},
   "source": [
    "# Fetching tweets and related information using API"
   ]
  },
  {
   "cell_type": "code",
   "execution_count": 32,
   "metadata": {},
   "outputs": [],
   "source": [
    "url_rest = \"https://api.twitter.com/1.1/statuses/user_timeline.json\""
   ]
  },
  {
   "cell_type": "code",
   "execution_count": 45,
   "metadata": {},
   "outputs": [],
   "source": [
    "params = {'screen_name': 'midasIIITD','tweet_mode' :  'extended', 'extended_entities':1}\n",
    "# screen_name defines the twitter handle\n",
    "# tweet_mode extended disables automatic truncation of tweet text\n",
    "# extended_entities true returns information about images, GIFs, videos etc. if any in the tweet"
   ]
  },
  {
   "cell_type": "code",
   "execution_count": 46,
   "metadata": {},
   "outputs": [],
   "source": [
    "results = requests.get(url_rest, params=params, auth=auth)"
   ]
  },
  {
   "cell_type": "markdown",
   "metadata": {},
   "source": [
    "# Dumping results in a JSONlines file"
   ]
  },
  {
   "cell_type": "code",
   "execution_count": 47,
   "metadata": {},
   "outputs": [],
   "source": [
    "tweets = results.json()\n",
    "\n",
    "with jsonlines.open('tweets.jsonl', mode='w') as writer:\n",
    "    for tweet in tweets:\n",
    "    \twriter.write(tweet)"
   ]
  },
  {
   "cell_type": "markdown",
   "metadata": {},
   "source": [
    "# Parsing JSONlines file for required info"
   ]
  },
  {
   "cell_type": "code",
   "execution_count": 65,
   "metadata": {},
   "outputs": [],
   "source": [
    "full_text = [] # contains text for each tweet\n",
    "date_time = [] # contains date and time for each tweet\n",
    "num_likes = [] # contains number of likes for each tweet\n",
    "num_retweets = [] # contains number of retweets for each tweet\n",
    "num_of_images = [] # contains number of images for each tweet\n",
    "with jsonlines.open('tweets.jsonl') as reader:\n",
    "    for obj in reader:\n",
    "        if 'retweeted_status' in obj:\n",
    "            obj = obj['retweeted_status']\n",
    "        full_text.append(obj['full_text'])\n",
    "        date_time.append(obj['created_at']) \n",
    "        num_retweets.append(obj['retweet_count'])\n",
    "        num_likes.append(obj['favorite_count'])\n",
    "        num_images = 0\n",
    "        if 'extended_entities' in obj:\n",
    "            if 'media' in obj['extended_entities']:\n",
    "                for media in obj['extended_entities']['media']:\n",
    "                    if media['type'] == 'photo':\n",
    "                        num_images += 1\n",
    "        if num_images==0:\n",
    "            num_of_images.append(0)\n",
    "        else:\n",
    "            num_of_images.append(num_images)"
   ]
  },
  {
   "cell_type": "markdown",
   "metadata": {},
   "source": [
    "# Creating Results DataFrame and csv file"
   ]
  },
  {
   "cell_type": "code",
   "execution_count": 67,
   "metadata": {},
   "outputs": [],
   "source": [
    "dic = {'full_text':full_text,'Date and Time':date_time,'Number of Retweets':num_retweets,'Number of Likes':num_likes,'Number of Images':num_of_images}\n",
    "df = pd.DataFrame.from_dict(dic)"
   ]
  },
  {
   "cell_type": "code",
   "execution_count": 70,
   "metadata": {},
   "outputs": [
    {
     "data": {
      "text/html": [
       "<div>\n",
       "<style scoped>\n",
       "    .dataframe tbody tr th:only-of-type {\n",
       "        vertical-align: middle;\n",
       "    }\n",
       "\n",
       "    .dataframe tbody tr th {\n",
       "        vertical-align: top;\n",
       "    }\n",
       "\n",
       "    .dataframe thead th {\n",
       "        text-align: right;\n",
       "    }\n",
       "</style>\n",
       "<table border=\"1\" class=\"dataframe\">\n",
       "  <thead>\n",
       "    <tr style=\"text-align: right;\">\n",
       "      <th></th>\n",
       "      <th>full_text</th>\n",
       "      <th>Date and Time</th>\n",
       "      <th>Number of Retweets</th>\n",
       "      <th>Number of Likes</th>\n",
       "      <th>Number of Images</th>\n",
       "    </tr>\n",
       "  </thead>\n",
       "  <tbody>\n",
       "    <tr>\n",
       "      <th>0</th>\n",
       "      <td>We will close the submission portal for submit...</td>\n",
       "      <td>Wed Apr 10 16:47:25 +0000 2019</td>\n",
       "      <td>0</td>\n",
       "      <td>1</td>\n",
       "      <td>0</td>\n",
       "    </tr>\n",
       "    <tr>\n",
       "      <th>1</th>\n",
       "      <td>Clarification: Our earlier post which indicate...</td>\n",
       "      <td>Wed Apr 10 09:01:29 +0000 2019</td>\n",
       "      <td>0</td>\n",
       "      <td>0</td>\n",
       "      <td>0</td>\n",
       "    </tr>\n",
       "    <tr>\n",
       "      <th>2</th>\n",
       "      <td>Applications open for MTech (CB) through JNU C...</td>\n",
       "      <td>Wed Apr 10 04:28:24 +0000 2019</td>\n",
       "      <td>1</td>\n",
       "      <td>3</td>\n",
       "      <td>1</td>\n",
       "    </tr>\n",
       "    <tr>\n",
       "      <th>3</th>\n",
       "      <td>We are delighted to share that IIIT-Delhi is r...</td>\n",
       "      <td>Tue Apr 09 09:03:12 +0000 2019</td>\n",
       "      <td>14</td>\n",
       "      <td>60</td>\n",
       "      <td>1</td>\n",
       "    </tr>\n",
       "    <tr>\n",
       "      <th>4</th>\n",
       "      <td>Professor Jelani Nelson founded AddisCoder, a ...</td>\n",
       "      <td>Mon Apr 08 20:10:01 +0000 2019</td>\n",
       "      <td>36</td>\n",
       "      <td>99</td>\n",
       "      <td>0</td>\n",
       "    </tr>\n",
       "  </tbody>\n",
       "</table>\n",
       "</div>"
      ],
      "text/plain": [
       "                                           full_text  \\\n",
       "0  We will close the submission portal for submit...   \n",
       "1  Clarification: Our earlier post which indicate...   \n",
       "2  Applications open for MTech (CB) through JNU C...   \n",
       "3  We are delighted to share that IIIT-Delhi is r...   \n",
       "4  Professor Jelani Nelson founded AddisCoder, a ...   \n",
       "\n",
       "                    Date and Time  Number of Retweets  Number of Likes  \\\n",
       "0  Wed Apr 10 16:47:25 +0000 2019                   0                1   \n",
       "1  Wed Apr 10 09:01:29 +0000 2019                   0                0   \n",
       "2  Wed Apr 10 04:28:24 +0000 2019                   1                3   \n",
       "3  Tue Apr 09 09:03:12 +0000 2019                  14               60   \n",
       "4  Mon Apr 08 20:10:01 +0000 2019                  36               99   \n",
       "\n",
       "   Number of Images  \n",
       "0                 0  \n",
       "1                 0  \n",
       "2                 1  \n",
       "3                 1  \n",
       "4                 0  "
      ]
     },
     "execution_count": 70,
     "metadata": {},
     "output_type": "execute_result"
    }
   ],
   "source": [
    "df.head()"
   ]
  },
  {
   "cell_type": "code",
   "execution_count": 69,
   "metadata": {},
   "outputs": [],
   "source": [
    "df.to_csv('results.csv')"
   ]
  },
  {
   "cell_type": "code",
   "execution_count": null,
   "metadata": {},
   "outputs": [],
   "source": []
  }
 ],
 "metadata": {
  "kernelspec": {
   "display_name": "Python 3",
   "language": "python",
   "name": "python3"
  },
  "language_info": {
   "codemirror_mode": {
    "name": "ipython",
    "version": 3
   },
   "file_extension": ".py",
   "mimetype": "text/x-python",
   "name": "python",
   "nbconvert_exporter": "python",
   "pygments_lexer": "ipython3",
   "version": "3.6.7"
  }
 },
 "nbformat": 4,
 "nbformat_minor": 2
}
